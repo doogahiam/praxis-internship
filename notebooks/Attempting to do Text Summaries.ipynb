{
 "cells": [
  {
   "cell_type": "code",
   "execution_count": 1,
   "id": "eaa5a318",
   "metadata": {},
   "outputs": [
    {
     "name": "stdout",
     "output_type": "stream",
     "text": [
      "INNOVATIVE TECHNOLOGY DELIVERY MODELS\n",
      "Northern Louisiana’s Technology Corridor:\n",
      "Paving the Way for Excellence\n",
      "In our ongoing effort to advance technology and address the growing threat of cybersecurity, we created\n",
      "the Integrated Technology Centers (ITCs)—taking our clients’ missions to the next level. To achieve this\n",
      "goal, GDIT leverages its technology capabilities with Louisiana’s workforce and economic development\n",
      "initiatives at the 3,500-acre National Cyber Research Park in Shreveport-Bossier City.\n",
      "With an eye squarely on high-tech innovation and research, the joint venture between GDIT and Louisiana would generate 800\n",
      "jobs for technology professionals. Its success led to the opening of a second facility in Northwest Louisiana: the Customer\n",
      "Engagement Center.\n",
      "Within five years, we had created more than 1,000 jobs in Northern Louisiana and a highly skilled workforce, many of them\n",
      "veterans. Since its inception, GDIT has actively recruited top talent from nearby Barksdale Air Force Base—bringing the total of the\n",
      "ITCs’ former-military workforce to nearly thirty percent.\n",
      "Today, GDIT and the state of Louisiana are focused on the future: working with higher-education institutions like Louisiana Tech\n",
      "University, Bossier Parish Community College, Northwestern State University, Grambling State University, and Louisiana State\n",
      "University-Shreveport to align curricula with industry needs and meet client future demands. Together, we’re making sure\n",
      "students are job-ready upon graduation, and helping the state retain its best and brightest.\n",
      "Northern Louisiana’s Technology Corridor has established a strategic, state-of-the-art technology region where industry,\n",
      "academia, and government converge to collaborate and evolve technology.\n",
      "Not only do Louisiana and GDIT benefit, but the United States as a whole.\n"
     ]
    }
   ],
   "source": [
    "#creating summary generation tool using pretrained Bart model\n",
    "# must have pdfplumber and sentencepeice installed\n",
    "\n",
    "import pdfplumber\n",
    "with pdfplumber.open(r'/home/user/Desktop/2023-intern-data-science/gdit_articles/20.pdf') as pdf:\n",
    "    grabbed_page = pdf.pages[0]\n",
    "    grabbed_text = grabbed_page.extract_text()\n",
    "    print(grabbed_text)\n",
    "\n",
    "\n",
    "\n"
   ]
  },
  {
   "cell_type": "raw",
   "id": "51395b0a",
   "metadata": {},
   "source": [
    "# Distil bart model \n",
    "\n",
    "from transformers import BartTokenizer, BartForConditionalGeneration, BartConfig \n",
    "\n",
    "model = BartForConditionalGeneration.from_pretrained('sshleifer/distilbart-cnn-12-6')\n",
    "tokenizer = BartTokenizer.from_pretrained('sshleifer/distilbart-cnn-12-6')   \n",
    "\n",
    "inputs = tokenizer([grabbed_text], truncation = True, return_tensors = 'pt')\n",
    "\n",
    "#attempting to generate summary\n",
    "\n",
    "sum_ids = model.generate(inputs['input_ids'], num_beams = 4, early_stopping = False, min_length = 0, max_length = 4096)\n",
    "sum_text = ([tokenizer.decode(g,skip_special_tokens = True, clean_up_tokenization_space = True) for g in sum_ids])\n",
    "print(sum_text)\n"
   ]
  },
  {
   "cell_type": "code",
   "execution_count": 2,
   "id": "9eaebf8f",
   "metadata": {},
   "outputs": [
    {
     "name": "stdout",
     "output_type": "stream",
     "text": [
      "['In an effort to advance technology and address the growing threat of cybersecurity, GDIT created the Integrated Technology Centers (ITCs) at the National Cyber Research Park in Shreveport-Bossier City and the Customer Engagement Center in Northwest Louisiana. Within five years, the ITCs created more than 1,000 jobs in Northern Louisiana and a highly skilled workforce, many of them veterans. GDIT and the state of Louisiana are working with higher-education institutions like Louisiana Tech, Bossier Parish Community College, Northwestern State University, Grambling State University and Louisiana State University-University-Shreveport to align curricula with industry needs and meet client future demands.']\n"
     ]
    }
   ],
   "source": [
    "#Bart - large -MLNI model - Facebook\n",
    "\n",
    "from transformers import AutoTokenizer, AutoModelForSeq2SeqLM\n",
    "\n",
    "tokenizer = AutoTokenizer.from_pretrained(\"slauw87/bart_summarisation\")\n",
    "model = AutoModelForSeq2SeqLM.from_pretrained(\"slauw87/bart_summarisation\")\n",
    "\n",
    "inputs = tokenizer([grabbed_text], truncation = True, return_tensors = 'pt')\n",
    "\n",
    "#attempting to generate summary\n",
    "\n",
    "sum_ids = model.generate(inputs['input_ids'], num_beams = 4, early_stopping = False, min_length = 0, max_length = 4096)\n",
    "sum_text = ([tokenizer.decode(g,skip_special_tokens = True, clean_up_tokenization_space = True) for g in sum_ids])\n",
    "print(sum_text)"
   ]
  },
  {
   "cell_type": "code",
   "execution_count": null,
   "id": "1320f9c0",
   "metadata": {},
   "outputs": [],
   "source": []
  }
 ],
 "metadata": {
  "kernelspec": {
   "display_name": "Python 3 (ipykernel)",
   "language": "python",
   "name": "python3"
  },
  "language_info": {
   "codemirror_mode": {
    "name": "ipython",
    "version": 3
   },
   "file_extension": ".py",
   "mimetype": "text/x-python",
   "name": "python",
   "nbconvert_exporter": "python",
   "pygments_lexer": "ipython3",
   "version": "3.10.9"
  }
 },
 "nbformat": 4,
 "nbformat_minor": 5
}
