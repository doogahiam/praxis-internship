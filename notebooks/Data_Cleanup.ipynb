{
 "cells": [
  {
   "cell_type": "code",
   "execution_count": null,
   "id": "37e9c797",
   "metadata": {},
   "outputs": [],
   "source": [
    "import sys\n",
    "!{sys.executable} -m pip install -r '../requirements.txt'"
   ]
  },
  {
   "cell_type": "markdown",
   "id": "583a0fbd",
   "metadata": {},
   "source": [
    "# Set Up Notebook"
   ]
  },
  {
   "cell_type": "markdown",
   "id": "2add075b",
   "metadata": {},
   "source": [
    "Always run this before any other section"
   ]
  },
  {
   "cell_type": "code",
   "execution_count": 2,
   "id": "ddf253df",
   "metadata": {},
   "outputs": [],
   "source": [
    "import PyPDF2\n",
    "import pandas as pd\n",
    "import spacy\n",
    "import nltk\n",
    "import itertools\n",
    "from collections import Counter\n",
    "from string import punctuation\n",
    "from tqdm.notebook import tqdm as tqdm_notebook\n",
    "from heapq import nlargest"
   ]
  },
  {
   "cell_type": "code",
   "execution_count": 3,
   "id": "61932cca",
   "metadata": {
    "scrolled": true
   },
   "outputs": [],
   "source": [
    "nlp = spacy.load(\"en_core_web_sm\")\n",
    "stopwords = spacy.lang.en.stop_words.STOP_WORDS"
   ]
  },
  {
   "cell_type": "markdown",
   "id": "b98a54a2",
   "metadata": {},
   "source": [
    "# Extract Text from PDFs into CSV"
   ]
  },
  {
   "cell_type": "code",
   "execution_count": null,
   "id": "e44fc43b",
   "metadata": {},
   "outputs": [],
   "source": [
    "def get_page_text(pdf_page):\n",
    "    text = pdf_page.extract_text() \n",
    "    new_string = ' '.join(text.split('\\n'))   \n",
    "    return new_string\n",
    "\n",
    "def pdf_to_text(pdf_path): \n",
    "    \n",
    "    article = \"\"\n",
    "    \n",
    "    with open(pdf_path, \"rb\") as pdfFileObj:\n",
    "        pdfReader = PyPDF2.PdfReader(pdfFileObj)\n",
    "        pageCount = len(pdfReader.pages)  \n",
    "        # Extract text from each page\n",
    "        for p in range(pageCount):\n",
    "            page = pdfReader.pages[p]\n",
    "            article += ' ' + get_page_text(page)\n",
    "            \n",
    "    return article"
   ]
  },
  {
   "cell_type": "code",
   "execution_count": null,
   "id": "346940f1",
   "metadata": {},
   "outputs": [],
   "source": [
    "articles = [\"\"] * 222\n",
    "for i in tqdm_notebook(range(222)):\n",
    "    pdf_path = f'../gdit_articles/{i}.pdf' # Change to path where GDIT Articles are stored\n",
    "    article = pdf_to_text(pdf_path)\n",
    "    articles[i] = article"
   ]
  },
  {
   "cell_type": "code",
   "execution_count": null,
   "id": "32a74be5",
   "metadata": {},
   "outputs": [],
   "source": [
    "# set encoding='utf-8' if codec error occurs\n",
    "with open('../gdit_articles/titles.txt', 'r', encoding='cp1252') as file:\n",
    "    lines = file.readlines()\n",
    "titles = [x.strip() for x in lines]"
   ]
  },
  {
   "cell_type": "code",
   "execution_count": null,
   "id": "759b33e8",
   "metadata": {},
   "outputs": [],
   "source": [
    "df = pd.DataFrame(list(zip(titles, articles)), columns = ['Title', 'Article'])\n",
    "df.head(20)"
   ]
  },
  {
   "cell_type": "markdown",
   "id": "c1279aaa",
   "metadata": {},
   "source": [
    "## Data Cleaning and Wrangling\n",
    "\n",
    "- Remove redundant footers from text\n",
    "- Create feature for article's introduction(i.e. first page)\n",
    "- Create feature for article tags and related sections"
   ]
  },
  {
   "cell_type": "code",
   "execution_count": null,
   "id": "8e94c443",
   "metadata": {},
   "outputs": [],
   "source": [
    "footer1 = '© 2023 General Dynamics Information Technology, Inc., a General Dynamics  Company. Capabilities Industries Perspectives Careers About GDIT Contact Us General Dynamics Information Technology is an Equal Opportunity/Affirmative Action employer. All qualified applicants will receive consideration for employment without regard to race, color, religion, sex, sexual orientation, gender identity, national origin, disability, or veteran status, or any other protected class. Privacy Policy Legal Terms CA Consumer Privacy EU-U.S. Privacy Shield Privacy Statement EU General Data Protection Regulation Site Map'\n",
    "footer2 = 'You may opt-out at any time by   contacting us contacting us   or using the link in our emails. For more details, review our   privacy policy privacy policy .'\n",
    "footer3 = 'MONTHLY NEWSLETTER Subscribe to our newsletter. Get thought leadership delivered once a month. Email  By submitting your contact information you agree that GDIT and its partners may send you marketing information. You may opt-out at any time by contacting us contacting us   or using the link in our emails. For more details, review our   privacy policy privacy policy .'\n",
    "footer4 = 'SHARE SHARE'\n",
    "footer5 = 'MONTHLY NEWSLETTER Subscribe to our newsletter. Get thought leadership delivered once a month. Email  By submitting your contact information you agree that GDIT and its partners may send you marketing information.'\n",
    "footers_to_delete = [footer1, footer2, footer3, footer4]\n",
    "for footer in footers_to_delete: \n",
    "    df['Article'] = df.Article.str.replace(footer, '')\n",
    "# Save changes to CSV\n",
    "# outfile = '../csv/gdit_articles.csv'\n",
    "df.to_csv(outfile, sep=',', encoding='utf-8', index=False)"
   ]
  },
  {
   "cell_type": "markdown",
   "id": "7eba2214",
   "metadata": {},
   "source": [
    "### Create Features: First Page, Tags, Related"
   ]
  },
  {
   "cell_type": "markdown",
   "id": "2adc3271",
   "metadata": {},
   "source": [
    "Retrieve the introduction(i.e. first page) from each article"
   ]
  },
  {
   "cell_type": "code",
   "execution_count": null,
   "id": "469615bc",
   "metadata": {},
   "outputs": [],
   "source": [
    "# Make FirstPage/Introduction data column\n",
    "def get_intro_text(pdf_path):\n",
    "    with open(pdf_path, \"rb\") as pdfFileObj:\n",
    "        pdfReader = PyPDF2.PdfReader(pdfFileObj)\n",
    "        return get_page_text(pdfReader.pages[0])\n",
    "\n",
    "df['Page1'] = \"\"\n",
    "for i in tqdm_notebook(range(222)):\n",
    "    pdf_path = f'../gdit_articles/{i}.pdf'\n",
    "    df.at[i, 'Page1'] = get_intro_text(pdf_path)"
   ]
  },
  {
   "cell_type": "markdown",
   "id": "b7abc1ab",
   "metadata": {},
   "source": [
    "Extract Tags and Related data"
   ]
  },
  {
   "cell_type": "code",
   "execution_count": null,
   "id": "e7c979e9",
   "metadata": {},
   "outputs": [],
   "source": [
    "# Searching for TAG(S) abd Related in articles\n",
    "# Article TAGS may contain important keyword information\n",
    "dfTag = df[df['Article'].str.contains(\"TAGS\", case=True)]\n",
    "dfTag[['Title', 'Article']]\n",
    "\n",
    "# Find articles with tags, fill NA's from articles w/o tags\n",
    "df['Tags'] = df['Article'].str.extract(r\"TAGS (.*) Related\").fillna(\"\") \n",
    "df['Related'] = df['Article'].str.extract(r\"TAGS.*Related (.*)\").fillna(\"\")\n",
    "\n",
    "# Clean Tags and Related features\n",
    "df['Tags'] = df['Tags'].str.replace(\"TAGS\", \"\").str.strip()\n",
    "df['Related'] = df['Related'].str.replace(r\"Related\", \"\").str.strip()"
   ]
  },
  {
   "cell_type": "markdown",
   "id": "a4abdfae",
   "metadata": {},
   "source": [
    "# Extracting Keywords and Phrases "
   ]
  },
  {
   "cell_type": "markdown",
   "id": "9f47d360",
   "metadata": {},
   "source": [
    "import spacy to extract keywords from articles (don't forget to pip install in the terminal)"
   ]
  },
  {
   "cell_type": "code",
   "execution_count": 11,
   "id": "2d7a90ba",
   "metadata": {},
   "outputs": [],
   "source": [
    "# Run if didnt run the code to generate the df already\n",
    "df = pd.read_csv('../csv/gdit_articles.csv')"
   ]
  },
  {
   "cell_type": "code",
   "execution_count": 5,
   "id": "7f445e9c",
   "metadata": {},
   "outputs": [],
   "source": [
    "def get_keywords(text):\n",
    "    \n",
    "    words, phrases, both = [], [], []\n",
    "    pos_tag = ['PROPN', 'ADJ', 'NOUN'] #extracting proper nouns, adjs, and nouns\n",
    "    doc = nlp(text.lower()) #returns a Doc with Token objects\n",
    "    \n",
    "    # Extract key phrases\n",
    "    for chunk in doc.noun_chunks:\n",
    "        \n",
    "        final = \"\"\n",
    "        \n",
    "        for token in chunk:\n",
    "            if (token.lemma_ in punctuation or token.text == 'gdit'):\n",
    "                continue\n",
    "                \n",
    "            if (token.pos_ in pos_tag):\n",
    "                final = final + token.lemma_ + \" \"\n",
    "        \n",
    "        if \" \" in final.strip():\n",
    "            phrases.append(final.strip())\n",
    "            both.append(final.strip())\n",
    "    \n",
    "    # Extract keywords\n",
    "    for token in doc:\n",
    "        \n",
    "        # If the token isn't a stop word or punctuation, continue\n",
    "        if (token.lemma_ in stopwords or token.lemma_ in punctuation or token.text == 'gdit'):\n",
    "            continue\n",
    "            \n",
    "        # Store result if it's one of the parts of speech in the list\n",
    "        if (token.pos_ in pos_tag):\n",
    "            words.append(token.lemma_)\n",
    "            both.append(token.lemma_)\n",
    "                \n",
    "    return words, phrases, both"
   ]
  },
  {
   "cell_type": "markdown",
   "id": "64f2c9a1",
   "metadata": {},
   "source": [
    "get a list of hot words"
   ]
  },
  {
   "cell_type": "markdown",
   "id": "78bc5972",
   "metadata": {},
   "source": [
    "if we want we can create a column for hashtags after we have keywords - could help with querying or an output from the GUI"
   ]
  },
  {
   "cell_type": "markdown",
   "id": "84f44fdb",
   "metadata": {},
   "source": [
    "examples to get the 5 most common key words/hashtags (use the list with duplicates)"
   ]
  },
  {
   "cell_type": "markdown",
   "id": "383bc3cd",
   "metadata": {},
   "source": [
    "applying the hotword/hashtag code above to the whole dataframe and making a column for the results"
   ]
  },
  {
   "cell_type": "markdown",
   "id": "52f0e567",
   "metadata": {},
   "source": [
    "read that using a dictionary to iterate is faster than iterrows()"
   ]
  },
  {
   "cell_type": "code",
   "execution_count": 13,
   "id": "f003d0e5",
   "metadata": {},
   "outputs": [
    {
     "data": {
      "application/vnd.jupyter.widget-view+json": {
       "model_id": "7cfb093d32a044f592c64dd6d6d12d3e",
       "version_major": 2,
       "version_minor": 0
      },
      "text/plain": [
       "Extracting keywords:   0%|          | 0/222 [00:00<?, ?it/s]"
      ]
     },
     "metadata": {},
     "output_type": "display_data"
    }
   ],
   "source": [
    "#df_dict = df.loc[:4].to_dict('records')\n",
    "df_dict = df.to_dict('records')\n",
    "word_col, phrase_col, all_col = [], [], []\n",
    "for row in tqdm_notebook(df_dict, desc = \"Extracting keywords\"): #tqdm displays a progress bar\n",
    "    words, phrases, both = get_keywords(row['Article']) #get hotwords for each row of the articles column\n",
    "    top_words = ', '.join([x[0] for x in Counter(words).most_common(10)])\n",
    "    top_phrases = ', '.join([x[0] for x in Counter(phrases).most_common(10)])\n",
    "    #top_both = ', '.join([x[0] for x in Counter(both).most_common(10)])\n",
    "    word_col.append(top_words)\n",
    "    phrase_col.append(top_phrases)\n",
    "    #all_col.append(top_both)"
   ]
  },
  {
   "cell_type": "code",
   "execution_count": 17,
   "id": "68007a82",
   "metadata": {},
   "outputs": [
    {
     "data": {
      "text/html": [
       "<div>\n",
       "<style scoped>\n",
       "    .dataframe tbody tr th:only-of-type {\n",
       "        vertical-align: middle;\n",
       "    }\n",
       "\n",
       "    .dataframe tbody tr th {\n",
       "        vertical-align: top;\n",
       "    }\n",
       "\n",
       "    .dataframe thead th {\n",
       "        text-align: right;\n",
       "    }\n",
       "</style>\n",
       "<table border=\"1\" class=\"dataframe\">\n",
       "  <thead>\n",
       "    <tr style=\"text-align: right;\">\n",
       "      <th></th>\n",
       "      <th>Title</th>\n",
       "      <th>Abstract Summary</th>\n",
       "      <th>Extraction Summary</th>\n",
       "      <th>Keywords</th>\n",
       "      <th>Keyphrases</th>\n",
       "      <th>Tags</th>\n",
       "      <th>Page1</th>\n",
       "      <th>Article</th>\n",
       "    </tr>\n",
       "  </thead>\n",
       "  <tbody>\n",
       "    <tr>\n",
       "      <th>0</th>\n",
       "      <td>AI Tool Accelerates Skin Cancer Detection in V...</td>\n",
       "      <td>The GDIT skin lesion classifier tool was devel...</td>\n",
       "      <td>The classifiers were trained on a library of 3...</td>\n",
       "      <td>['skin', 'image', 'lesion', 'veteran', 'tool',...</td>\n",
       "      <td>['skin lesion', 'skin cancer', 'skin disease',...</td>\n",
       "      <td>NaN</td>\n",
       "      <td>recognized skin diseases, malignant or benign ...</td>\n",
       "      <td>recognized skin diseases, malignant or benign...</td>\n",
       "    </tr>\n",
       "    <tr>\n",
       "      <th>1</th>\n",
       "      <td>Arkansas: A First in Payment Reform</td>\n",
       "      <td>Arkansas became the first state to successfull...</td>\n",
       "      <td>Antibiotic use for unspecified upper-respirato...</td>\n",
       "      <td>['cost', 'state', 'care', 'datum', 'provider',...</td>\n",
       "      <td>['payment reform', 'big datum', 'data analytic...</td>\n",
       "      <td>NaN</td>\n",
       "      <td>DATA ANALYTICS Arkansas: A First in Payment Re...</td>\n",
       "      <td>DATA ANALYTICS Arkansas: A First in Payment R...</td>\n",
       "    </tr>\n",
       "    <tr>\n",
       "      <th>2</th>\n",
       "      <td>Cancer Research Empowered by the Cloud and Mac...</td>\n",
       "      <td>Cancer Research Empowered by the Cloud and Mac...</td>\n",
       "      <td>types of cancer can be studied by researchers ...</td>\n",
       "      <td>['cancer', 'datum', 'research', 'cloud', 'nci'...</td>\n",
       "      <td>['machine learning', 'cancer researcher', 'hea...</td>\n",
       "      <td>NaN</td>\n",
       "      <td>HEALTH Cancer Research Empowered by the Cloud ...</td>\n",
       "      <td>HEALTH Cancer Research Empowered by the Cloud...</td>\n",
       "    </tr>\n",
       "    <tr>\n",
       "      <th>3</th>\n",
       "      <td>Air Force Distributed Common Ground System Adv...</td>\n",
       "      <td>Air Force Distributed Common Ground System (AF...</td>\n",
       "      <td>DIGITAL MODERNIZATION Air Force Distributed C...</td>\n",
       "      <td>['system', 'air', 'force', 'dcgs', 'datum', 'i...</td>\n",
       "      <td>['air force', 'common ground system', 'joint o...</td>\n",
       "      <td>NaN</td>\n",
       "      <td>DIGITAL MODERNIZATION Air Force Distributed Co...</td>\n",
       "      <td>DIGITAL MODERNIZATION Air Force Distributed C...</td>\n",
       "    </tr>\n",
       "    <tr>\n",
       "      <th>4</th>\n",
       "      <td>Twin Supercomputers Power Weather Forecasting</td>\n",
       "      <td>WCOSS 2 supercomputers for the National Weathe...</td>\n",
       "      <td>Each of these new supercomputers provides to N...</td>\n",
       "      <td>['weather', 'computing', 'power', 'noaa', 'sup...</td>\n",
       "      <td>['computing power', 'vital information', 'wate...</td>\n",
       "      <td>NaN</td>\n",
       "      <td>HIGH-PERFORMANCE COMPUTING Twin Supercomputers...</td>\n",
       "      <td>HIGH-PERFORMANCE COMPUTING Twin Supercomputer...</td>\n",
       "    </tr>\n",
       "  </tbody>\n",
       "</table>\n",
       "</div>"
      ],
      "text/plain": [
       "                                               Title  \\\n",
       "0  AI Tool Accelerates Skin Cancer Detection in V...   \n",
       "1                Arkansas: A First in Payment Reform   \n",
       "2  Cancer Research Empowered by the Cloud and Mac...   \n",
       "3  Air Force Distributed Common Ground System Adv...   \n",
       "4      Twin Supercomputers Power Weather Forecasting   \n",
       "\n",
       "                                    Abstract Summary  \\\n",
       "0  The GDIT skin lesion classifier tool was devel...   \n",
       "1  Arkansas became the first state to successfull...   \n",
       "2  Cancer Research Empowered by the Cloud and Mac...   \n",
       "3  Air Force Distributed Common Ground System (AF...   \n",
       "4  WCOSS 2 supercomputers for the National Weathe...   \n",
       "\n",
       "                                  Extraction Summary  \\\n",
       "0  The classifiers were trained on a library of 3...   \n",
       "1  Antibiotic use for unspecified upper-respirato...   \n",
       "2  types of cancer can be studied by researchers ...   \n",
       "3   DIGITAL MODERNIZATION Air Force Distributed C...   \n",
       "4  Each of these new supercomputers provides to N...   \n",
       "\n",
       "                                            Keywords  \\\n",
       "0  ['skin', 'image', 'lesion', 'veteran', 'tool',...   \n",
       "1  ['cost', 'state', 'care', 'datum', 'provider',...   \n",
       "2  ['cancer', 'datum', 'research', 'cloud', 'nci'...   \n",
       "3  ['system', 'air', 'force', 'dcgs', 'datum', 'i...   \n",
       "4  ['weather', 'computing', 'power', 'noaa', 'sup...   \n",
       "\n",
       "                                          Keyphrases Tags  \\\n",
       "0  ['skin lesion', 'skin cancer', 'skin disease',...  NaN   \n",
       "1  ['payment reform', 'big datum', 'data analytic...  NaN   \n",
       "2  ['machine learning', 'cancer researcher', 'hea...  NaN   \n",
       "3  ['air force', 'common ground system', 'joint o...  NaN   \n",
       "4  ['computing power', 'vital information', 'wate...  NaN   \n",
       "\n",
       "                                               Page1  \\\n",
       "0  recognized skin diseases, malignant or benign ...   \n",
       "1  DATA ANALYTICS Arkansas: A First in Payment Re...   \n",
       "2  HEALTH Cancer Research Empowered by the Cloud ...   \n",
       "3  DIGITAL MODERNIZATION Air Force Distributed Co...   \n",
       "4  HIGH-PERFORMANCE COMPUTING Twin Supercomputers...   \n",
       "\n",
       "                                             Article  \n",
       "0   recognized skin diseases, malignant or benign...  \n",
       "1   DATA ANALYTICS Arkansas: A First in Payment R...  \n",
       "2   HEALTH Cancer Research Empowered by the Cloud...  \n",
       "3   DIGITAL MODERNIZATION Air Force Distributed C...  \n",
       "4   HIGH-PERFORMANCE COMPUTING Twin Supercomputer...  "
      ]
     },
     "execution_count": 17,
     "metadata": {},
     "output_type": "execute_result"
    }
   ],
   "source": [
    "df.head()"
   ]
  },
  {
   "cell_type": "code",
   "execution_count": 19,
   "id": "a9f1a8b9",
   "metadata": {
    "scrolled": false
   },
   "outputs": [
    {
     "data": {
      "text/html": [
       "<div>\n",
       "<style scoped>\n",
       "    .dataframe tbody tr th:only-of-type {\n",
       "        vertical-align: middle;\n",
       "    }\n",
       "\n",
       "    .dataframe tbody tr th {\n",
       "        vertical-align: top;\n",
       "    }\n",
       "\n",
       "    .dataframe thead th {\n",
       "        text-align: right;\n",
       "    }\n",
       "</style>\n",
       "<table border=\"1\" class=\"dataframe\">\n",
       "  <thead>\n",
       "    <tr style=\"text-align: right;\">\n",
       "      <th></th>\n",
       "      <th>Title</th>\n",
       "      <th>Abstract Summary</th>\n",
       "      <th>Extraction Summary</th>\n",
       "      <th>Keywords</th>\n",
       "      <th>Keyphrases</th>\n",
       "      <th>Tags</th>\n",
       "      <th>Page1</th>\n",
       "      <th>Article</th>\n",
       "    </tr>\n",
       "  </thead>\n",
       "  <tbody>\n",
       "    <tr>\n",
       "      <th>217</th>\n",
       "      <td>The Quantum Impact on Cyber</td>\n",
       "      <td>Quantum computers are more efficient than clas...</td>\n",
       "      <td>By   Dr. Jim Matney Dr. Jim Matney Vice Presid...</td>\n",
       "      <td>quantum, agency, risk, cyber, solution, datum,...</td>\n",
       "      <td>quantum threat, new standard, quantum computin...</td>\n",
       "      <td>CYBER QUANTUM  By   Dr. Jim Matney Dr. Jim Mat...</td>\n",
       "      <td>As almost any cybersecurity professional would...</td>\n",
       "      <td>As almost any cybersecurity professional woul...</td>\n",
       "    </tr>\n",
       "    <tr>\n",
       "      <th>218</th>\n",
       "      <td>Quantum Computing: What Agencies Need to Know</td>\n",
       "      <td>Quantum computing is a disruptive technology t...</td>\n",
       "      <td>In November 2021,  IBM  unveiled their 127-Qub...</td>\n",
       "      <td>quantum, computer, computing, agency, intellig...</td>\n",
       "      <td>quantum computer, quantum computing, federal a...</td>\n",
       "      <td>ARTIFICIAL INTELLIGENCE HEALTH CYBER QUANTUM  ...</td>\n",
       "      <td>Most people have heard of supercomputing. Most...</td>\n",
       "      <td>Most people have heard of supercomputing. Mos...</td>\n",
       "    </tr>\n",
       "    <tr>\n",
       "      <th>219</th>\n",
       "      <td>AI Powers Up Cyber Resilience: A Look Back at ...</td>\n",
       "      <td>Team Barcelona won the Cyber Hackathon at GDIT...</td>\n",
       "      <td>By   Dr. Matthew McFadden Dr. Matthew McFadden...</td>\n",
       "      <td>cyber, team, cybersecurity, capability, partne...</td>\n",
       "      <td>cyber incident, min watch cloud, threat landsc...</td>\n",
       "      <td>CYBER OUR CULTURE  By   Dr. Matthew McFadden D...</td>\n",
       "      <td>Given the rise in cyber incidents and changing...</td>\n",
       "      <td>Given the rise in cyber incidents and changin...</td>\n",
       "    </tr>\n",
       "    <tr>\n",
       "      <th>220</th>\n",
       "      <td>Protecting Workloads Using Zero Trust: 5 Steps...</td>\n",
       "      <td>According to zero trust architecture, an appli...</td>\n",
       "      <td>2. Implement Micro-Segmentation and Run-Time T...</td>\n",
       "      <td>application, security, workload, trust, softwa...</td>\n",
       "      <td>application workload, virtual machine, securit...</td>\n",
       "      <td>APPLICATION SERVICES CYBER ZERO TRUST  By   Ja...</td>\n",
       "      <td>To fully understand the “application workload”...</td>\n",
       "      <td>To fully understand the “application workload...</td>\n",
       "    </tr>\n",
       "    <tr>\n",
       "      <th>221</th>\n",
       "      <td>Seven Ways Zero Trust Delivers ROI to Agencies</td>\n",
       "      <td>Zero Trust is a security approach that assumes...</td>\n",
       "      <td>TAGS TAGS CYBER ZERO TRUST  By   Matt Hayden M...</td>\n",
       "      <td>trust, security, agency, cyber, benefit, netwo...</td>\n",
       "      <td>security approach, federal government, min wat...</td>\n",
       "      <td>CYBER ZERO TRUST  By   Matt Hayden Matt Hayden...</td>\n",
       "      <td>As is becoming more and more widely known,  Ze...</td>\n",
       "      <td>As is becoming more and more widely known,  Z...</td>\n",
       "    </tr>\n",
       "  </tbody>\n",
       "</table>\n",
       "</div>"
      ],
      "text/plain": [
       "                                                 Title  \\\n",
       "217                        The Quantum Impact on Cyber   \n",
       "218      Quantum Computing: What Agencies Need to Know   \n",
       "219  AI Powers Up Cyber Resilience: A Look Back at ...   \n",
       "220  Protecting Workloads Using Zero Trust: 5 Steps...   \n",
       "221     Seven Ways Zero Trust Delivers ROI to Agencies   \n",
       "\n",
       "                                      Abstract Summary  \\\n",
       "217  Quantum computers are more efficient than clas...   \n",
       "218  Quantum computing is a disruptive technology t...   \n",
       "219  Team Barcelona won the Cyber Hackathon at GDIT...   \n",
       "220  According to zero trust architecture, an appli...   \n",
       "221  Zero Trust is a security approach that assumes...   \n",
       "\n",
       "                                    Extraction Summary  \\\n",
       "217  By   Dr. Jim Matney Dr. Jim Matney Vice Presid...   \n",
       "218  In November 2021,  IBM  unveiled their 127-Qub...   \n",
       "219  By   Dr. Matthew McFadden Dr. Matthew McFadden...   \n",
       "220  2. Implement Micro-Segmentation and Run-Time T...   \n",
       "221  TAGS TAGS CYBER ZERO TRUST  By   Matt Hayden M...   \n",
       "\n",
       "                                              Keywords  \\\n",
       "217  quantum, agency, risk, cyber, solution, datum,...   \n",
       "218  quantum, computer, computing, agency, intellig...   \n",
       "219  cyber, team, cybersecurity, capability, partne...   \n",
       "220  application, security, workload, trust, softwa...   \n",
       "221  trust, security, agency, cyber, benefit, netwo...   \n",
       "\n",
       "                                            Keyphrases  \\\n",
       "217  quantum threat, new standard, quantum computin...   \n",
       "218  quantum computer, quantum computing, federal a...   \n",
       "219  cyber incident, min watch cloud, threat landsc...   \n",
       "220  application workload, virtual machine, securit...   \n",
       "221  security approach, federal government, min wat...   \n",
       "\n",
       "                                                  Tags  \\\n",
       "217  CYBER QUANTUM  By   Dr. Jim Matney Dr. Jim Mat...   \n",
       "218  ARTIFICIAL INTELLIGENCE HEALTH CYBER QUANTUM  ...   \n",
       "219  CYBER OUR CULTURE  By   Dr. Matthew McFadden D...   \n",
       "220  APPLICATION SERVICES CYBER ZERO TRUST  By   Ja...   \n",
       "221  CYBER ZERO TRUST  By   Matt Hayden Matt Hayden...   \n",
       "\n",
       "                                                 Page1  \\\n",
       "217  As almost any cybersecurity professional would...   \n",
       "218  Most people have heard of supercomputing. Most...   \n",
       "219  Given the rise in cyber incidents and changing...   \n",
       "220  To fully understand the “application workload”...   \n",
       "221  As is becoming more and more widely known,  Ze...   \n",
       "\n",
       "                                               Article  \n",
       "217   As almost any cybersecurity professional woul...  \n",
       "218   Most people have heard of supercomputing. Mos...  \n",
       "219   Given the rise in cyber incidents and changin...  \n",
       "220   To fully understand the “application workload...  \n",
       "221   As is becoming more and more widely known,  Z...  "
      ]
     },
     "execution_count": 19,
     "metadata": {},
     "output_type": "execute_result"
    }
   ],
   "source": [
    "#df['Keywords and Phrases'] = all_col\n",
    "df = df.drop(columns=['Keywords', 'Keyphrases'])\n",
    "df.insert(3, 'Keywords', word_col) # Add the column to the dataframe\n",
    "df.insert(4, 'Keyphrases', phrase_col)\n",
    "\n",
    "# Re-order columns\n",
    "#df = df[['Title', 'Page1', 'Keywords', 'Keyphrases', 'Tags', 'Article']]\n",
    "df.tail()"
   ]
  },
  {
   "cell_type": "code",
   "execution_count": null,
   "id": "521bca7f",
   "metadata": {},
   "outputs": [],
   "source": [
    "# Save changes to CSV\n",
    "outfile = '../csv/gdit_articles.csv'\n",
    "df.to_csv(outfile, sep=',', encoding='utf-8', index=False)"
   ]
  },
  {
   "cell_type": "markdown",
   "id": "bafd81f8",
   "metadata": {},
   "source": [
    "# Generate Extraction-Based Summaries"
   ]
  },
  {
   "cell_type": "code",
   "execution_count": null,
   "id": "0c7759bd",
   "metadata": {},
   "outputs": [],
   "source": [
    "df = pd.read_csv('../csv/gdit_articles.csv')"
   ]
  },
  {
   "cell_type": "code",
   "execution_count": 7,
   "id": "0e968047",
   "metadata": {},
   "outputs": [],
   "source": [
    "# Percent is the percent of the highest ranked sentences\n",
    "def summarize(text, percent):\n",
    "    \n",
    "    doc = nlp(text)\n",
    "    tokens = [token.text for token in doc]\n",
    "    word_freq = {}\n",
    "    \n",
    "    # Count word frequencies\n",
    "    for token in doc:\n",
    "        if token.text not in stopwords and token.text not in punctuation:\n",
    "            if token.text not in word_freq.keys():\n",
    "                word_freq[token.text] = 1\n",
    "            else:\n",
    "                word_freq[token.text] += 1\n",
    "    \n",
    "    max_freq = max(word_freq.values())\n",
    "    \n",
    "    # Normalize the word counts\n",
    "    for word in word_freq.keys():\n",
    "        word_freq[word] = word_freq[word]/max_freq\n",
    "    \n",
    "    sentence_tokens = [sent for sent in doc.sents]\n",
    "    sentence_scores = {}\n",
    "    \n",
    "    # Normalized count for each sentence\n",
    "    for sent in sentence_tokens:\n",
    "        for token in sent:\n",
    "            if token.text in word_freq.keys():\n",
    "                if sent not in sentence_scores.keys():\n",
    "                    sentence_scores[sent] = word_freq[token.text]\n",
    "                else:\n",
    "                    sentence_scores[sent] += word_freq[token.text]\n",
    "\n",
    "    select_len = int(len(sentence_tokens) * percent)\n",
    "    \n",
    "    # Return a list containing top sentences\n",
    "    summary = nlargest(5, sentence_scores, key=sentence_scores.get)\n",
    "    # Convert the sentences from spacy.tokens.span.Span objects to strings\n",
    "    final_summary = [word.text for word in summary]\n",
    "    summary = ''.join(final_summary)\n",
    "    \n",
    "    return summary"
   ]
  },
  {
   "cell_type": "code",
   "execution_count": 8,
   "id": "05253da2",
   "metadata": {},
   "outputs": [
    {
     "data": {
      "application/vnd.jupyter.widget-view+json": {
       "model_id": "ee7bb0248cb84ad19db34ae2835a6d63",
       "version_major": 2,
       "version_minor": 0
      },
      "text/plain": [
       "Extracting summaries:   0%|          | 0/222 [00:00<?, ?it/s]"
      ]
     },
     "metadata": {},
     "output_type": "display_data"
    }
   ],
   "source": [
    "df_dict = df.to_dict('records')\n",
    "summ_col = []\n",
    "\n",
    "# Create extracted-based summaries for each article\n",
    "for row in tqdm_notebook(df_dict, desc = \"Extracting summaries\"):\n",
    "    \n",
    "    summary = summarize(row['Article'], 0.1)\n",
    "    summ_col.append(summary)"
   ]
  },
  {
   "cell_type": "code",
   "execution_count": 9,
   "id": "85c150f8",
   "metadata": {},
   "outputs": [
    {
     "name": "stdout",
     "output_type": "stream",
     "text": [
      "The classifiers were trained on a library of 30,000 publicly available skin lesion images, labeled with seven skin diseases: melanocytic nevi (benign), melanoma (malignant), benign keratosis-like lesions (benign) basal cell carcinoma (malignant), actinic keratoses and intraepithelial carcinoma (malignant), vascular lesions (benign) and dermatofibroma (benign).Read more: Department of Veterans Affairs soft-testing AI tool to speed skin cancer diagnosis How an AI-powered tool could help diagnose skin cancer in veterans    It uses deep learning artificial intelligence (AI) to classify images of skin lesions into seven common categories, determine if an image is indicative of a common skin disease, and recommend immediate follow-up care.skin lesion images used to train the AI model open-source deep learning image classifiers evaluated AI Applied to Improve Veteran Health recognized skin diseases, malignant or benign ARTIFICIAL INTELLIGENCE AI Tool Accelerates Skin Cancer Detection in Veterans Skin cancer is the most common cancer in the U.S. with one in five Americans developing it in their lifetime.\n"
     ]
    }
   ],
   "source": [
    "print(summ_col[0])"
   ]
  },
  {
   "cell_type": "code",
   "execution_count": 10,
   "id": "c10ae761",
   "metadata": {},
   "outputs": [
    {
     "data": {
      "text/html": [
       "<div>\n",
       "<style scoped>\n",
       "    .dataframe tbody tr th:only-of-type {\n",
       "        vertical-align: middle;\n",
       "    }\n",
       "\n",
       "    .dataframe tbody tr th {\n",
       "        vertical-align: top;\n",
       "    }\n",
       "\n",
       "    .dataframe thead th {\n",
       "        text-align: right;\n",
       "    }\n",
       "</style>\n",
       "<table border=\"1\" class=\"dataframe\">\n",
       "  <thead>\n",
       "    <tr style=\"text-align: right;\">\n",
       "      <th></th>\n",
       "      <th>Title</th>\n",
       "      <th>Summary</th>\n",
       "      <th>Page1</th>\n",
       "      <th>Keywords and Phrases</th>\n",
       "      <th>Keywords</th>\n",
       "      <th>Keyphrases</th>\n",
       "      <th>Tags</th>\n",
       "      <th>Related</th>\n",
       "      <th>Article</th>\n",
       "    </tr>\n",
       "  </thead>\n",
       "  <tbody>\n",
       "    <tr>\n",
       "      <th>0</th>\n",
       "      <td>AI Tool Accelerates Skin Cancer Detection in V...</td>\n",
       "      <td>The classifiers were trained on a library of 3...</td>\n",
       "      <td>recognized skin diseases, malignant or benign ...</td>\n",
       "      <td>['skin', 'image', 'lesion', 'veteran', 'tool',...</td>\n",
       "      <td>['skin', 'image', 'lesion', 'veteran', 'tool',...</td>\n",
       "      <td>['skin lesion', 'skin cancer', 'skin disease',...</td>\n",
       "      <td>NaN</td>\n",
       "      <td>NaN</td>\n",
       "      <td>recognized skin diseases, malignant or benign...</td>\n",
       "    </tr>\n",
       "    <tr>\n",
       "      <th>1</th>\n",
       "      <td>Arkansas: A First in Payment Reform</td>\n",
       "      <td>Antibiotic use for unspecified upper-respirato...</td>\n",
       "      <td>DATA ANALYTICS Arkansas: A First in Payment Re...</td>\n",
       "      <td>['cost', 'state', 'care', 'datum', 'provider',...</td>\n",
       "      <td>['cost', 'state', 'care', 'datum', 'provider',...</td>\n",
       "      <td>['payment reform', 'big datum', 'data analytic...</td>\n",
       "      <td>NaN</td>\n",
       "      <td>NaN</td>\n",
       "      <td>DATA ANALYTICS Arkansas: A First in Payment R...</td>\n",
       "    </tr>\n",
       "    <tr>\n",
       "      <th>2</th>\n",
       "      <td>Cancer Research Empowered by the Cloud and Mac...</td>\n",
       "      <td>types of cancer can be studied by researchers ...</td>\n",
       "      <td>HEALTH Cancer Research Empowered by the Cloud ...</td>\n",
       "      <td>['cancer', 'datum', 'research', 'cloud', 'nci'...</td>\n",
       "      <td>['cancer', 'datum', 'research', 'cloud', 'nci'...</td>\n",
       "      <td>['machine learning', 'cancer researcher', 'hea...</td>\n",
       "      <td>NaN</td>\n",
       "      <td>NaN</td>\n",
       "      <td>HEALTH Cancer Research Empowered by the Cloud...</td>\n",
       "    </tr>\n",
       "    <tr>\n",
       "      <th>3</th>\n",
       "      <td>Air Force Distributed Common Ground System Adv...</td>\n",
       "      <td>DIGITAL MODERNIZATION Air Force Distributed C...</td>\n",
       "      <td>DIGITAL MODERNIZATION Air Force Distributed Co...</td>\n",
       "      <td>['system', 'air', 'force', 'dcgs', 'datum', 'i...</td>\n",
       "      <td>['system', 'air', 'force', 'dcgs', 'datum', 'i...</td>\n",
       "      <td>['air force', 'common ground system', 'joint o...</td>\n",
       "      <td>NaN</td>\n",
       "      <td>NaN</td>\n",
       "      <td>DIGITAL MODERNIZATION Air Force Distributed C...</td>\n",
       "    </tr>\n",
       "    <tr>\n",
       "      <th>4</th>\n",
       "      <td>Twin Supercomputers Power Weather Forecasting</td>\n",
       "      <td>Each of these new supercomputers provides to N...</td>\n",
       "      <td>HIGH-PERFORMANCE COMPUTING Twin Supercomputers...</td>\n",
       "      <td>['weather', 'computing', 'power', 'noaa', 'sup...</td>\n",
       "      <td>['weather', 'computing', 'power', 'noaa', 'sup...</td>\n",
       "      <td>['computing power', 'vital information', 'wate...</td>\n",
       "      <td>NaN</td>\n",
       "      <td>NaN</td>\n",
       "      <td>HIGH-PERFORMANCE COMPUTING Twin Supercomputer...</td>\n",
       "    </tr>\n",
       "  </tbody>\n",
       "</table>\n",
       "</div>"
      ],
      "text/plain": [
       "                                               Title  \\\n",
       "0  AI Tool Accelerates Skin Cancer Detection in V...   \n",
       "1                Arkansas: A First in Payment Reform   \n",
       "2  Cancer Research Empowered by the Cloud and Mac...   \n",
       "3  Air Force Distributed Common Ground System Adv...   \n",
       "4      Twin Supercomputers Power Weather Forecasting   \n",
       "\n",
       "                                             Summary  \\\n",
       "0  The classifiers were trained on a library of 3...   \n",
       "1  Antibiotic use for unspecified upper-respirato...   \n",
       "2  types of cancer can be studied by researchers ...   \n",
       "3   DIGITAL MODERNIZATION Air Force Distributed C...   \n",
       "4  Each of these new supercomputers provides to N...   \n",
       "\n",
       "                                               Page1  \\\n",
       "0  recognized skin diseases, malignant or benign ...   \n",
       "1  DATA ANALYTICS Arkansas: A First in Payment Re...   \n",
       "2  HEALTH Cancer Research Empowered by the Cloud ...   \n",
       "3  DIGITAL MODERNIZATION Air Force Distributed Co...   \n",
       "4  HIGH-PERFORMANCE COMPUTING Twin Supercomputers...   \n",
       "\n",
       "                                Keywords and Phrases  \\\n",
       "0  ['skin', 'image', 'lesion', 'veteran', 'tool',...   \n",
       "1  ['cost', 'state', 'care', 'datum', 'provider',...   \n",
       "2  ['cancer', 'datum', 'research', 'cloud', 'nci'...   \n",
       "3  ['system', 'air', 'force', 'dcgs', 'datum', 'i...   \n",
       "4  ['weather', 'computing', 'power', 'noaa', 'sup...   \n",
       "\n",
       "                                            Keywords  \\\n",
       "0  ['skin', 'image', 'lesion', 'veteran', 'tool',...   \n",
       "1  ['cost', 'state', 'care', 'datum', 'provider',...   \n",
       "2  ['cancer', 'datum', 'research', 'cloud', 'nci'...   \n",
       "3  ['system', 'air', 'force', 'dcgs', 'datum', 'i...   \n",
       "4  ['weather', 'computing', 'power', 'noaa', 'sup...   \n",
       "\n",
       "                                          Keyphrases Tags Related  \\\n",
       "0  ['skin lesion', 'skin cancer', 'skin disease',...  NaN     NaN   \n",
       "1  ['payment reform', 'big datum', 'data analytic...  NaN     NaN   \n",
       "2  ['machine learning', 'cancer researcher', 'hea...  NaN     NaN   \n",
       "3  ['air force', 'common ground system', 'joint o...  NaN     NaN   \n",
       "4  ['computing power', 'vital information', 'wate...  NaN     NaN   \n",
       "\n",
       "                                             Article  \n",
       "0   recognized skin diseases, malignant or benign...  \n",
       "1   DATA ANALYTICS Arkansas: A First in Payment R...  \n",
       "2   HEALTH Cancer Research Empowered by the Cloud...  \n",
       "3   DIGITAL MODERNIZATION Air Force Distributed C...  \n",
       "4   HIGH-PERFORMANCE COMPUTING Twin Supercomputer...  "
      ]
     },
     "execution_count": 10,
     "metadata": {},
     "output_type": "execute_result"
    }
   ],
   "source": [
    "df.head()"
   ]
  },
  {
   "cell_type": "code",
   "execution_count": null,
   "id": "131900cb",
   "metadata": {},
   "outputs": [],
   "source": [
    "# Insert the column of Summaries\n",
    "df.insert(1, 'Summary', summ_col)"
   ]
  },
  {
   "cell_type": "code",
   "execution_count": null,
   "id": "f83e233b",
   "metadata": {},
   "outputs": [],
   "source": [
    "# Save changes to CSV\n",
    "outfile = '../csv/gdit_articles.csv'\n",
    "df.to_csv(outfile, sep=',', encoding='utf-8', index=False)"
   ]
  },
  {
   "cell_type": "markdown",
   "id": "7c1b9df5",
   "metadata": {},
   "source": [
    "# New Section"
   ]
  },
  {
   "cell_type": "code",
   "execution_count": 3,
   "id": "0db0a15d",
   "metadata": {},
   "outputs": [],
   "source": [
    "df = pd.read_csv('../csv/gdit_articles.csv')"
   ]
  },
  {
   "cell_type": "code",
   "execution_count": 4,
   "id": "2eecc6d3",
   "metadata": {},
   "outputs": [
    {
     "data": {
      "text/html": [
       "<div>\n",
       "<style scoped>\n",
       "    .dataframe tbody tr th:only-of-type {\n",
       "        vertical-align: middle;\n",
       "    }\n",
       "\n",
       "    .dataframe tbody tr th {\n",
       "        vertical-align: top;\n",
       "    }\n",
       "\n",
       "    .dataframe thead th {\n",
       "        text-align: right;\n",
       "    }\n",
       "</style>\n",
       "<table border=\"1\" class=\"dataframe\">\n",
       "  <thead>\n",
       "    <tr style=\"text-align: right;\">\n",
       "      <th></th>\n",
       "      <th>Title</th>\n",
       "      <th>Summary</th>\n",
       "      <th>Page1</th>\n",
       "      <th>Keywords and Phrases</th>\n",
       "      <th>Keywords</th>\n",
       "      <th>Keyphrases</th>\n",
       "      <th>Tags</th>\n",
       "      <th>Related</th>\n",
       "      <th>Article</th>\n",
       "    </tr>\n",
       "  </thead>\n",
       "  <tbody>\n",
       "    <tr>\n",
       "      <th>0</th>\n",
       "      <td>AI Tool Accelerates Skin Cancer Detection in V...</td>\n",
       "      <td>The classifiers were trained on a library of 3...</td>\n",
       "      <td>recognized skin diseases, malignant or benign ...</td>\n",
       "      <td>['skin', 'image', 'lesion', 'veteran', 'tool',...</td>\n",
       "      <td>['skin', 'image', 'lesion', 'veteran', 'tool',...</td>\n",
       "      <td>['skin lesion', 'skin cancer', 'skin disease',...</td>\n",
       "      <td>NaN</td>\n",
       "      <td>NaN</td>\n",
       "      <td>recognized skin diseases, malignant or benign...</td>\n",
       "    </tr>\n",
       "    <tr>\n",
       "      <th>1</th>\n",
       "      <td>Arkansas: A First in Payment Reform</td>\n",
       "      <td>Antibiotic use for unspecified upper-respirato...</td>\n",
       "      <td>DATA ANALYTICS Arkansas: A First in Payment Re...</td>\n",
       "      <td>['cost', 'state', 'care', 'datum', 'provider',...</td>\n",
       "      <td>['cost', 'state', 'care', 'datum', 'provider',...</td>\n",
       "      <td>['payment reform', 'big datum', 'data analytic...</td>\n",
       "      <td>NaN</td>\n",
       "      <td>NaN</td>\n",
       "      <td>DATA ANALYTICS Arkansas: A First in Payment R...</td>\n",
       "    </tr>\n",
       "    <tr>\n",
       "      <th>2</th>\n",
       "      <td>Cancer Research Empowered by the Cloud and Mac...</td>\n",
       "      <td>types of cancer can be studied by researchers ...</td>\n",
       "      <td>HEALTH Cancer Research Empowered by the Cloud ...</td>\n",
       "      <td>['cancer', 'datum', 'research', 'cloud', 'nci'...</td>\n",
       "      <td>['cancer', 'datum', 'research', 'cloud', 'nci'...</td>\n",
       "      <td>['machine learning', 'cancer researcher', 'hea...</td>\n",
       "      <td>NaN</td>\n",
       "      <td>NaN</td>\n",
       "      <td>HEALTH Cancer Research Empowered by the Cloud...</td>\n",
       "    </tr>\n",
       "    <tr>\n",
       "      <th>3</th>\n",
       "      <td>Air Force Distributed Common Ground System Adv...</td>\n",
       "      <td>DIGITAL MODERNIZATION Air Force Distributed C...</td>\n",
       "      <td>DIGITAL MODERNIZATION Air Force Distributed Co...</td>\n",
       "      <td>['system', 'air', 'force', 'dcgs', 'datum', 'i...</td>\n",
       "      <td>['system', 'air', 'force', 'dcgs', 'datum', 'i...</td>\n",
       "      <td>['air force', 'common ground system', 'joint o...</td>\n",
       "      <td>NaN</td>\n",
       "      <td>NaN</td>\n",
       "      <td>DIGITAL MODERNIZATION Air Force Distributed C...</td>\n",
       "    </tr>\n",
       "    <tr>\n",
       "      <th>4</th>\n",
       "      <td>Twin Supercomputers Power Weather Forecasting</td>\n",
       "      <td>Each of these new supercomputers provides to N...</td>\n",
       "      <td>HIGH-PERFORMANCE COMPUTING Twin Supercomputers...</td>\n",
       "      <td>['weather', 'computing', 'power', 'noaa', 'sup...</td>\n",
       "      <td>['weather', 'computing', 'power', 'noaa', 'sup...</td>\n",
       "      <td>['computing power', 'vital information', 'wate...</td>\n",
       "      <td>NaN</td>\n",
       "      <td>NaN</td>\n",
       "      <td>HIGH-PERFORMANCE COMPUTING Twin Supercomputer...</td>\n",
       "    </tr>\n",
       "  </tbody>\n",
       "</table>\n",
       "</div>"
      ],
      "text/plain": [
       "                                               Title  \\\n",
       "0  AI Tool Accelerates Skin Cancer Detection in V...   \n",
       "1                Arkansas: A First in Payment Reform   \n",
       "2  Cancer Research Empowered by the Cloud and Mac...   \n",
       "3  Air Force Distributed Common Ground System Adv...   \n",
       "4      Twin Supercomputers Power Weather Forecasting   \n",
       "\n",
       "                                             Summary  \\\n",
       "0  The classifiers were trained on a library of 3...   \n",
       "1  Antibiotic use for unspecified upper-respirato...   \n",
       "2  types of cancer can be studied by researchers ...   \n",
       "3   DIGITAL MODERNIZATION Air Force Distributed C...   \n",
       "4  Each of these new supercomputers provides to N...   \n",
       "\n",
       "                                               Page1  \\\n",
       "0  recognized skin diseases, malignant or benign ...   \n",
       "1  DATA ANALYTICS Arkansas: A First in Payment Re...   \n",
       "2  HEALTH Cancer Research Empowered by the Cloud ...   \n",
       "3  DIGITAL MODERNIZATION Air Force Distributed Co...   \n",
       "4  HIGH-PERFORMANCE COMPUTING Twin Supercomputers...   \n",
       "\n",
       "                                Keywords and Phrases  \\\n",
       "0  ['skin', 'image', 'lesion', 'veteran', 'tool',...   \n",
       "1  ['cost', 'state', 'care', 'datum', 'provider',...   \n",
       "2  ['cancer', 'datum', 'research', 'cloud', 'nci'...   \n",
       "3  ['system', 'air', 'force', 'dcgs', 'datum', 'i...   \n",
       "4  ['weather', 'computing', 'power', 'noaa', 'sup...   \n",
       "\n",
       "                                            Keywords  \\\n",
       "0  ['skin', 'image', 'lesion', 'veteran', 'tool',...   \n",
       "1  ['cost', 'state', 'care', 'datum', 'provider',...   \n",
       "2  ['cancer', 'datum', 'research', 'cloud', 'nci'...   \n",
       "3  ['system', 'air', 'force', 'dcgs', 'datum', 'i...   \n",
       "4  ['weather', 'computing', 'power', 'noaa', 'sup...   \n",
       "\n",
       "                                          Keyphrases Tags Related  \\\n",
       "0  ['skin lesion', 'skin cancer', 'skin disease',...  NaN     NaN   \n",
       "1  ['payment reform', 'big datum', 'data analytic...  NaN     NaN   \n",
       "2  ['machine learning', 'cancer researcher', 'hea...  NaN     NaN   \n",
       "3  ['air force', 'common ground system', 'joint o...  NaN     NaN   \n",
       "4  ['computing power', 'vital information', 'wate...  NaN     NaN   \n",
       "\n",
       "                                             Article  \n",
       "0   recognized skin diseases, malignant or benign...  \n",
       "1   DATA ANALYTICS Arkansas: A First in Payment R...  \n",
       "2   HEALTH Cancer Research Empowered by the Cloud...  \n",
       "3   DIGITAL MODERNIZATION Air Force Distributed C...  \n",
       "4   HIGH-PERFORMANCE COMPUTING Twin Supercomputer...  "
      ]
     },
     "execution_count": 4,
     "metadata": {},
     "output_type": "execute_result"
    }
   ],
   "source": [
    "df.head()"
   ]
  },
  {
   "cell_type": "code",
   "execution_count": null,
   "id": "6451e0c8",
   "metadata": {},
   "outputs": [],
   "source": []
  }
 ],
 "metadata": {
  "kernelspec": {
   "display_name": "Python 3 (ipykernel)",
   "language": "python",
   "name": "python3"
  },
  "language_info": {
   "codemirror_mode": {
    "name": "ipython",
    "version": 3
   },
   "file_extension": ".py",
   "mimetype": "text/x-python",
   "name": "python",
   "nbconvert_exporter": "python",
   "pygments_lexer": "ipython3",
   "version": "3.11.3"
  }
 },
 "nbformat": 4,
 "nbformat_minor": 5
}
